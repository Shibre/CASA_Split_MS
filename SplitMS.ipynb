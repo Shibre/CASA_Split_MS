{
 "cells": [
  {
   "cell_type": "code",
   "execution_count": 1,
   "id": "5b638630",
   "metadata": {},
   "outputs": [],
   "source": [
    "from casatasks import split, listobs\n",
    "import numpy as np\n",
    "from casatools import table, msmetadata\n",
    "tb = table()        \n",
    "msmd = msmetadata() \n"
   ]
  },
  {
   "cell_type": "code",
   "execution_count": null,
   "id": "48a0cf83",
   "metadata": {},
   "outputs": [
    {
     "name": "stdout",
     "output_type": "stream",
     "text": [
      "Start freq: 688.77 MHz, End freq: 795.95 MHz\n"
     ]
    },
    {
     "data": {
      "text/plain": [
       "True"
      ]
     },
     "execution_count": 10,
     "metadata": {},
     "output_type": "execute_result"
    }
   ],
   "source": [
    "msmd.open('/path/to.ms')\n",
    "freqs = msmd.chanfreqs(0)  # Hz\n",
    "\n",
    "# Check Frequency range if and the corresponding channels\n",
    "f_start = 544.0 \n",
    "f_end = 1088.0\n",
    "\n",
    "# Find the first channel >= f_start and last channel <= f_end\n",
    "chan_start = np.where(freqs >= f_start)[0][0]\n",
    "chan_end = np.where(freqs <= f_end)[0][-1]\n",
    "\n",
    "print(f\"Start freq: {freqs[chan_start]/1e6:.2f} MHz, End freq: {freqs[chan_end]/1e6:.2f} MHz\")\n",
    "msmd.close()"
   ]
  },
  {
   "cell_type": "code",
   "execution_count": null,
   "id": "ee605c86",
   "metadata": {},
   "outputs": [],
   "source": [
    "# split into two chunks \n",
    "\n",
    "channel_ranges = [\n",
    "    '0:0~800',\n",
    "    '0:801~4095']\n",
    "    \n",
    "\n",
    "for i, spw in enumerate(channel_ranges, 1):\n",
    "    output = f'pathto/output{i}.ms'\n",
    "    split(\n",
    "        vis='path/to.ms',\n",
    "        outputvis=output,\n",
    "        spw=spw,\n",
    "        datacolumn='all',\n",
    "        keepflags=True\n",
    "    )\n",
    "    print(f\"Split {i} completed: {output}\")"
   ]
  }
 ],
 "metadata": {
  "kernelspec": {
   "display_name": "casa-modular",
   "language": "python",
   "name": "python3"
  },
  "language_info": {
   "codemirror_mode": {
    "name": "ipython",
    "version": 3
   },
   "file_extension": ".py",
   "mimetype": "text/x-python",
   "name": "python",
   "nbconvert_exporter": "python",
   "pygments_lexer": "ipython3",
   "version": "3.10.12"
  }
 },
 "nbformat": 4,
 "nbformat_minor": 5
}
